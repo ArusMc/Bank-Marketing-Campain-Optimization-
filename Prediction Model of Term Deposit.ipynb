{
 "cells": [
  {
   "cell_type": "markdown",
   "metadata": {},
   "source": [
    "### Import\n",
    "In order to predict clients' subscription of the term deposit, we will use typical data science stacks:pandas,numpy,sklearn,matplotlib."
   ]
  },
  {
   "cell_type": "code",
   "execution_count": 1,
   "metadata": {},
   "outputs": [],
   "source": [
    "import pandas as pd\n",
    "import numpy as np\n",
    "import matplotlib.pyplot as plt\n",
    "import seaborn as sns\n",
    "from sklearn import preprocessing\n",
    "from sklearn.ensemble import RandomForestClassifier\n",
    "from sklearn.utils import shuffle\n",
    "import warnings\n",
    "warnings.filterwarnings('ignore')"
   ]
  },
  {
   "cell_type": "markdown",
   "metadata": {},
   "source": [
    "### Read in data"
   ]
  },
  {
   "cell_type": "code",
   "execution_count": 2,
   "metadata": {},
   "outputs": [
    {
     "name": "stdout",
     "output_type": "stream",
     "text": [
      "Data shape: (41188, 21)\n"
     ]
    },
    {
     "data": {
      "text/html": [
       "<div>\n",
       "<style scoped>\n",
       "    .dataframe tbody tr th:only-of-type {\n",
       "        vertical-align: middle;\n",
       "    }\n",
       "\n",
       "    .dataframe tbody tr th {\n",
       "        vertical-align: top;\n",
       "    }\n",
       "\n",
       "    .dataframe thead th {\n",
       "        text-align: right;\n",
       "    }\n",
       "</style>\n",
       "<table border=\"1\" class=\"dataframe\">\n",
       "  <thead>\n",
       "    <tr style=\"text-align: right;\">\n",
       "      <th></th>\n",
       "      <th>age</th>\n",
       "      <th>job</th>\n",
       "      <th>marital</th>\n",
       "      <th>education</th>\n",
       "      <th>default</th>\n",
       "      <th>housing</th>\n",
       "      <th>loan</th>\n",
       "      <th>contact</th>\n",
       "      <th>month</th>\n",
       "      <th>day_of_week</th>\n",
       "      <th>...</th>\n",
       "      <th>campaign</th>\n",
       "      <th>pdays</th>\n",
       "      <th>previous</th>\n",
       "      <th>poutcome</th>\n",
       "      <th>emp.var.rate</th>\n",
       "      <th>cons.price.idx</th>\n",
       "      <th>cons.conf.idx</th>\n",
       "      <th>euribor3m</th>\n",
       "      <th>nr.employed</th>\n",
       "      <th>y</th>\n",
       "    </tr>\n",
       "  </thead>\n",
       "  <tbody>\n",
       "    <tr>\n",
       "      <th>0</th>\n",
       "      <td>56</td>\n",
       "      <td>housemaid</td>\n",
       "      <td>married</td>\n",
       "      <td>basic.4y</td>\n",
       "      <td>no</td>\n",
       "      <td>no</td>\n",
       "      <td>no</td>\n",
       "      <td>telephone</td>\n",
       "      <td>may</td>\n",
       "      <td>mon</td>\n",
       "      <td>...</td>\n",
       "      <td>1</td>\n",
       "      <td>999</td>\n",
       "      <td>0</td>\n",
       "      <td>nonexistent</td>\n",
       "      <td>1.1</td>\n",
       "      <td>93.994</td>\n",
       "      <td>-36.4</td>\n",
       "      <td>4.857</td>\n",
       "      <td>5191.0</td>\n",
       "      <td>no</td>\n",
       "    </tr>\n",
       "    <tr>\n",
       "      <th>1</th>\n",
       "      <td>57</td>\n",
       "      <td>services</td>\n",
       "      <td>married</td>\n",
       "      <td>high.school</td>\n",
       "      <td>unknown</td>\n",
       "      <td>no</td>\n",
       "      <td>no</td>\n",
       "      <td>telephone</td>\n",
       "      <td>may</td>\n",
       "      <td>mon</td>\n",
       "      <td>...</td>\n",
       "      <td>1</td>\n",
       "      <td>999</td>\n",
       "      <td>0</td>\n",
       "      <td>nonexistent</td>\n",
       "      <td>1.1</td>\n",
       "      <td>93.994</td>\n",
       "      <td>-36.4</td>\n",
       "      <td>4.857</td>\n",
       "      <td>5191.0</td>\n",
       "      <td>no</td>\n",
       "    </tr>\n",
       "    <tr>\n",
       "      <th>2</th>\n",
       "      <td>37</td>\n",
       "      <td>services</td>\n",
       "      <td>married</td>\n",
       "      <td>high.school</td>\n",
       "      <td>no</td>\n",
       "      <td>yes</td>\n",
       "      <td>no</td>\n",
       "      <td>telephone</td>\n",
       "      <td>may</td>\n",
       "      <td>mon</td>\n",
       "      <td>...</td>\n",
       "      <td>1</td>\n",
       "      <td>999</td>\n",
       "      <td>0</td>\n",
       "      <td>nonexistent</td>\n",
       "      <td>1.1</td>\n",
       "      <td>93.994</td>\n",
       "      <td>-36.4</td>\n",
       "      <td>4.857</td>\n",
       "      <td>5191.0</td>\n",
       "      <td>no</td>\n",
       "    </tr>\n",
       "    <tr>\n",
       "      <th>3</th>\n",
       "      <td>40</td>\n",
       "      <td>admin.</td>\n",
       "      <td>married</td>\n",
       "      <td>basic.6y</td>\n",
       "      <td>no</td>\n",
       "      <td>no</td>\n",
       "      <td>no</td>\n",
       "      <td>telephone</td>\n",
       "      <td>may</td>\n",
       "      <td>mon</td>\n",
       "      <td>...</td>\n",
       "      <td>1</td>\n",
       "      <td>999</td>\n",
       "      <td>0</td>\n",
       "      <td>nonexistent</td>\n",
       "      <td>1.1</td>\n",
       "      <td>93.994</td>\n",
       "      <td>-36.4</td>\n",
       "      <td>4.857</td>\n",
       "      <td>5191.0</td>\n",
       "      <td>no</td>\n",
       "    </tr>\n",
       "    <tr>\n",
       "      <th>4</th>\n",
       "      <td>56</td>\n",
       "      <td>services</td>\n",
       "      <td>married</td>\n",
       "      <td>high.school</td>\n",
       "      <td>no</td>\n",
       "      <td>no</td>\n",
       "      <td>yes</td>\n",
       "      <td>telephone</td>\n",
       "      <td>may</td>\n",
       "      <td>mon</td>\n",
       "      <td>...</td>\n",
       "      <td>1</td>\n",
       "      <td>999</td>\n",
       "      <td>0</td>\n",
       "      <td>nonexistent</td>\n",
       "      <td>1.1</td>\n",
       "      <td>93.994</td>\n",
       "      <td>-36.4</td>\n",
       "      <td>4.857</td>\n",
       "      <td>5191.0</td>\n",
       "      <td>no</td>\n",
       "    </tr>\n",
       "  </tbody>\n",
       "</table>\n",
       "<p>5 rows × 21 columns</p>\n",
       "</div>"
      ],
      "text/plain": [
       "   age        job  marital    education  default housing loan    contact  \\\n",
       "0   56  housemaid  married     basic.4y       no      no   no  telephone   \n",
       "1   57   services  married  high.school  unknown      no   no  telephone   \n",
       "2   37   services  married  high.school       no     yes   no  telephone   \n",
       "3   40     admin.  married     basic.6y       no      no   no  telephone   \n",
       "4   56   services  married  high.school       no      no  yes  telephone   \n",
       "\n",
       "  month day_of_week ...  campaign  pdays  previous     poutcome emp.var.rate  \\\n",
       "0   may         mon ...         1    999         0  nonexistent          1.1   \n",
       "1   may         mon ...         1    999         0  nonexistent          1.1   \n",
       "2   may         mon ...         1    999         0  nonexistent          1.1   \n",
       "3   may         mon ...         1    999         0  nonexistent          1.1   \n",
       "4   may         mon ...         1    999         0  nonexistent          1.1   \n",
       "\n",
       "   cons.price.idx  cons.conf.idx  euribor3m  nr.employed   y  \n",
       "0          93.994          -36.4      4.857       5191.0  no  \n",
       "1          93.994          -36.4      4.857       5191.0  no  \n",
       "2          93.994          -36.4      4.857       5191.0  no  \n",
       "3          93.994          -36.4      4.857       5191.0  no  \n",
       "4          93.994          -36.4      4.857       5191.0  no  \n",
       "\n",
       "[5 rows x 21 columns]"
      ]
     },
     "execution_count": 2,
     "metadata": {},
     "output_type": "execute_result"
    }
   ],
   "source": [
    "# Bank data \n",
    "bank_data = pd.read_csv(\"C:\\\\Users\\\\CH.Meng\\\\Desktop\\\\bank-additional-full.csv\",sep= \";\")\n",
    "print(\"Data shape:\",bank_data.shape)\n",
    "bank_data.head()"
   ]
  },
  {
   "cell_type": "markdown",
   "metadata": {},
   "source": [
    "### Exploratory Data Analysis\n",
    "In this section we will conduct the Exploratory Data Analysis(EDA), which is a open-ended method,to discover what dataset can tell us. Besides, we will also do the data process along the way."
   ]
  },
  {
   "cell_type": "markdown",
   "metadata": {},
   "source": [
    "### Examine the Distribution of the Target Column\n",
    "We define the column y in the dataset as the **Target Column**, for the target of the project is to predict the clients' decision to subscribe bank term deposit.When examining the ditribution of the **Target Column**, we would like to find out the balance of the **Target Column**."
   ]
  },
  {
   "cell_type": "code",
   "execution_count": 3,
   "metadata": {},
   "outputs": [
    {
     "data": {
      "image/png": "[encoded data removed]",
      "text/plain": [
       "<Figure size 432x288 with 1 Axes>"
      ]
     },
     "metadata": {},
     "output_type": "display_data"
    }
   ],
   "source": [
    "bank_data['y'] = bank_data['y'].map({'no': 0, 'yes': 1}).astype(int)    \n",
    "pd.Series(bank_data['y']).plot.hist();"
   ]
  },
  {
   "cell_type": "markdown",
   "metadata": {},
   "source": [
    "From the chart above, we see this is an imbalanced class problem. The amount of the unsubscription of term deposit is much larger than the subscription, which brings the efficiency problem to the bank's marketing campaign. To optimize the bank's marketing strategy, we will give our **Business Suggestion** in the last part of our notebook. "
   ]
  },
  {
   "cell_type": "markdown",
   "metadata": {},
   "source": [
    "### Examine Missing Values\n",
    "In this section, we will look at the number and precentage of the missing value in each column."
   ]
  },
  {
   "cell_type": "code",
   "execution_count": 4,
   "metadata": {},
   "outputs": [],
   "source": [
    "#Replace the original indicators of the missing values:unknown,999\n",
    "bank_data.replace({'job':'unknown','marital':'unknown','education':'unknown','default':'unknown','housing':'unknown',\n",
    "                     'loan':'unknown','pdays':999},np.nan,inplace = True);\n"
   ]
  },
  {
   "cell_type": "code",
   "execution_count": 5,
   "metadata": {},
   "outputs": [],
   "source": [
    "#Counting the missing values\n",
    "def missing_values_count(data):\n",
    "        # Calculate total missing values and percentage of missing values in each column\n",
    "        mis_val = data.isnull().sum()\n",
    "        mis_val_percent = 100 * data.isnull().sum() / len(data)\n",
    "        mis_val_table = pd.concat([mis_val, mis_val_percent], axis=1)\n",
    "        \n",
    "        # Rename the columns\n",
    "        mis_val_table_ren_columns = mis_val_table.rename(\n",
    "        columns = {0 : 'Missing Values', 1 : ' % of Total Values'})\n",
    "        \n",
    "        # Sort the table by percentage of missing in descending sequence\n",
    "        mis_val_table_ren_columns = mis_val_table_ren_columns[\n",
    "            mis_val_table_ren_columns.iloc[:,1] != 0].sort_values(\n",
    "        ' % of Total Values', ascending=False).round(1)\n",
    "        \n",
    "        # Print some summary information\n",
    "        print (\"Your selected dataframe has \" + str(data.shape[1]) + \" columns.\\n\"      \n",
    "            \"There are \" + str(mis_val_table_ren_columns.shape[0]) +\n",
    "              \" columns that have missing values.\")\n",
    "        \n",
    "        # Return the dataframe with missing information\n",
    "        return mis_val_table_ren_columns"
   ]
  },
  {
   "cell_type": "code",
   "execution_count": 6,
   "metadata": {},
   "outputs": [
    {
     "name": "stdout",
     "output_type": "stream",
     "text": [
      "Your selected dataframe has 21 columns.\n",
      "There are 7 columns that have missing values.\n"
     ]
    },
    {
     "data": {
      "text/html": [
       "<div>\n",
       "<style scoped>\n",
       "    .dataframe tbody tr th:only-of-type {\n",
       "        vertical-align: middle;\n",
       "    }\n",
       "\n",
       "    .dataframe tbody tr th {\n",
       "        vertical-align: top;\n",
       "    }\n",
       "\n",
       "    .dataframe thead th {\n",
       "        text-align: right;\n",
       "    }\n",
       "</style>\n",
       "<table border=\"1\" class=\"dataframe\">\n",
       "  <thead>\n",
       "    <tr style=\"text-align: right;\">\n",
       "      <th></th>\n",
       "      <th>Missing Values</th>\n",
       "      <th>% of Total Values</th>\n",
       "    </tr>\n",
       "  </thead>\n",
       "  <tbody>\n",
       "    <tr>\n",
       "      <th>pdays</th>\n",
       "      <td>39673</td>\n",
       "      <td>96.3</td>\n",
       "    </tr>\n",
       "    <tr>\n",
       "      <th>default</th>\n",
       "      <td>8597</td>\n",
       "      <td>20.9</td>\n",
       "    </tr>\n",
       "    <tr>\n",
       "      <th>education</th>\n",
       "      <td>1731</td>\n",
       "      <td>4.2</td>\n",
       "    </tr>\n",
       "    <tr>\n",
       "      <th>housing</th>\n",
       "      <td>990</td>\n",
       "      <td>2.4</td>\n",
       "    </tr>\n",
       "    <tr>\n",
       "      <th>loan</th>\n",
       "      <td>990</td>\n",
       "      <td>2.4</td>\n",
       "    </tr>\n",
       "    <tr>\n",
       "      <th>job</th>\n",
       "      <td>330</td>\n",
       "      <td>0.8</td>\n",
       "    </tr>\n",
       "    <tr>\n",
       "      <th>marital</th>\n",
       "      <td>80</td>\n",
       "      <td>0.2</td>\n",
       "    </tr>\n",
       "  </tbody>\n",
       "</table>\n",
       "</div>"
      ],
      "text/plain": [
       "           Missing Values   % of Total Values\n",
       "pdays               39673                96.3\n",
       "default              8597                20.9\n",
       "education            1731                 4.2\n",
       "housing               990                 2.4\n",
       "loan                  990                 2.4\n",
       "job                   330                 0.8\n",
       "marital                80                 0.2"
      ]
     },
     "execution_count": 6,
     "metadata": {},
     "output_type": "execute_result"
    }
   ],
   "source": [
    "missing_values_count(bank_data)"
   ]
  },
  {
   "cell_type": "code",
   "execution_count": 7,
   "metadata": {},
   "outputs": [
    {
     "name": "stdout",
     "output_type": "stream",
     "text": [
      "data shape:(40787, 21)\n"
     ]
    }
   ],
   "source": [
    "#For those columns with less miss values:job marital,we delete the corresponding row\n",
    "data = bank_data[~((bank_data['job'].isnull()) | (bank_data['marital'].isnull()))]\n",
    "print(\"data shape:{}\".format(data.shape))\n",
    "data = data.reset_index(drop = True)"
   ]
  },
  {
   "cell_type": "markdown",
   "metadata": {},
   "source": [
    "### Examine Categorical Variable\n",
    "As the attribute information indicates, there are several categorical varibles in the dataset. In this part,we will make an overview of the categorical variables and process them in convenience for our model."
   ]
  },
  {
   "cell_type": "code",
   "execution_count": 8,
   "metadata": {},
   "outputs": [
    {
     "data": {
      "text/plain": [
       "job            11\n",
       "marital         3\n",
       "education       7\n",
       "default         2\n",
       "housing         2\n",
       "loan            2\n",
       "contact         2\n",
       "month          10\n",
       "day_of_week     5\n",
       "poutcome        3\n",
       "dtype: int64"
      ]
     },
     "execution_count": 8,
     "metadata": {},
     "output_type": "execute_result"
    }
   ],
   "source": [
    "#Detect the Categorical Variables\n",
    "data.select_dtypes('object').apply(pd.Series.nunique, axis = 0)"
   ]
  },
  {
   "cell_type": "markdown",
   "metadata": {},
   "source": [
    "From the information above, we can see that there are no missing values in those columns:**job**, **marital**, **contact**, **month**, **day_of_week**, **poutcome**, **y**. And we will encode the catagorical varibles in the following steps."
   ]
  },
  {
   "cell_type": "code",
   "execution_count": 9,
   "metadata": {},
   "outputs": [
    {
     "data": {
      "text/plain": [
       "university.degree      12096\n",
       "high.school             9464\n",
       "basic.9y                6006\n",
       "professional.course     5225\n",
       "basic.4y                4118\n",
       "basic.6y                2264\n",
       "illiterate                18\n",
       "Name: education, dtype: int64"
      ]
     },
     "execution_count": 9,
     "metadata": {},
     "output_type": "execute_result"
    }
   ],
   "source": [
    "#Count the number of attribute in the column 'education'\n",
    "data.education.value_counts()"
   ]
  },
  {
   "cell_type": "markdown",
   "metadata": {},
   "source": [
    "Since the education level is an Ordered Categorical Varible,we will encode it with integer."
   ]
  },
  {
   "cell_type": "code",
   "execution_count": 10,
   "metadata": {},
   "outputs": [],
   "source": [
    "def encode_education(data):\n",
    "    values = [\"illiterate\", \"basic.4y\", \"basic.6y\", \"basic.9y\", \n",
    "    \"high.school\",  \"professional.course\", \"university.degree\"]\n",
    "    levels = range(1,len(values)+1)\n",
    "    dict_levels = dict(zip(values, levels))\n",
    "    for v in values:\n",
    "        data.loc[data['education'] == v, 'education'] = dict_levels[v]\n",
    "    return data"
   ]
  },
  {
   "cell_type": "markdown",
   "metadata": {},
   "source": [
    "And now we have the encoded column 'education'. "
   ]
  },
  {
   "cell_type": "code",
   "execution_count": 11,
   "metadata": {},
   "outputs": [],
   "source": [
    "encode_education(data);"
   ]
  },
  {
   "cell_type": "markdown",
   "metadata": {},
   "source": [
    "As for the 'month', we will draw the frequncy plot first to make an overview of its status for further processing."
   ]
  },
  {
   "cell_type": "code",
   "execution_count": 12,
   "metadata": {},
   "outputs": [
    {
     "data": {
      "text/plain": [
       "<matplotlib.axes._subplots.AxesSubplot at 0x1d24a37e6a0>"
      ]
     },
     "execution_count": 12,
     "metadata": {},
     "output_type": "execute_result"
    },
    {
     "data": {
      "image/png": "[encoded data removed]",
      "text/plain": [
       "<Figure size 432x288 with 1 Axes>"
      ]
     },
     "metadata": {},
     "output_type": "display_data"
    }
   ],
   "source": [
    "#month\n",
    "month = bank_data.month\n",
    "fig,ax = plt.subplots(1,1)\n",
    "sns.countplot(x=\"month\", data=bank_data, palette=\"Reds_d\", ax=ax,order = ['mar','apr','may','jun','jul','aug','sep','oct','nov','dec'])\n"
   ]
  },
  {
   "cell_type": "markdown",
   "metadata": {},
   "source": [
    "Then we will adopt One-hot encoding to creat new columns for each unique category in the following categorical variables: 'job', 'marital', 'month', 'day_of_week' and 'poutcome'.Each observation recieves a 1 in the column for its corresponding category and a 0 in all other new columns."
   ]
  },
  {
   "cell_type": "code",
   "execution_count": 13,
   "metadata": {},
   "outputs": [],
   "source": [
    "#Encode the categorical variable with no missing values\n",
    "\n",
    "cat_variables = ['job','marital','month','day_of_week','poutcome',]\n",
    "data = pd.get_dummies(data,columns = cat_variables)"
   ]
  },
  {
   "cell_type": "markdown",
   "metadata": {},
   "source": [
    "As for the **'contact'**, **'default'**, **'housing'**, **'loan'** and **'y'**, we regard them as binary varibles."
   ]
  },
  {
   "cell_type": "code",
   "execution_count": 14,
   "metadata": {},
   "outputs": [],
   "source": [
    "def encode_bin(data, bin_features):    \n",
    "    data.loc[data['contact'] == 'telephone', 'contact'] = 0\n",
    "    data.loc[data['contact'] == 'cellular', 'contact'] = 1\n",
    "    for i in bin_features:\n",
    "        data.loc[data[i] == 'no', i] = 0\n",
    "        data.loc[data[i] == 'yes', i] = 1\n",
    "    return data\n",
    "encode_bin(data,['default','housing','loan']);"
   ]
  },
  {
   "cell_type": "markdown",
   "metadata": {},
   "source": [
    "As for the **'pdays'**, even though it varies from person to person, yet the '999',which indicates non-previously-contacted clients, takes up 96.3% of the column 'pdays', so we can conlude that **'pdays'** only tells us wheather the client is contacted. As a result,we believe making it an binary varible can help our model perform well."
   ]
  },
  {
   "cell_type": "code",
   "execution_count": 15,
   "metadata": {},
   "outputs": [],
   "source": [
    "data.loc[data['pdays'].isnull(),'pdays'] = 0\n",
    "data.loc[data['pdays']!=0,'pdays'] = 1"
   ]
  },
  {
   "cell_type": "markdown",
   "metadata": {},
   "source": [
    "### Examine Continuous Variable\n",
    "In this section, we will process those continuous variables as indicated in the Attribute Information."
   ]
  },
  {
   "cell_type": "markdown",
   "metadata": {},
   "source": [
    "First,let's take a look at the frequency distribution of 'Age'."
   ]
  },
  {
   "cell_type": "code",
   "execution_count": 16,
   "metadata": {},
   "outputs": [
    {
     "data": {
      "image/png": "[encoded data removed]",
      "text/plain": [
       "<Figure size 1440x576 with 1 Axes>"
      ]
     },
     "metadata": {},
     "output_type": "display_data"
    }
   ],
   "source": [
    "# Age\n",
    "fig, ax1 = plt.subplots()\n",
    "fig.set_size_inches(20, 8)\n",
    "sns.countplot(x = 'age', data = bank_data)\n",
    "ax1.set_xlabel('Age', fontsize=15)\n",
    "ax1.set_ylabel('Count', fontsize=15)\n",
    "ax1.set_title('Age Count Distribution', fontsize=15)\n",
    "sns.despine()"
   ]
  },
  {
   "cell_type": "markdown",
   "metadata": {},
   "source": [
    "The graph above indicates that the data has fluctuation, yet it seems not that clear. So we will draw a box plot to find the status of 1st quantile, median and 3rd quantile to have an intuitive visualization."
   ]
  },
  {
   "cell_type": "code",
   "execution_count": 17,
   "metadata": {},
   "outputs": [
    {
     "data": {
      "image/png": "[encoded data removed]",
      "text/plain": [
       "<Figure size 936x360 with 1 Axes>"
      ]
     },
     "metadata": {},
     "output_type": "display_data"
    }
   ],
   "source": [
    "fig, ax2 = plt.subplots(figsize = (13, 5))\n",
    "sns.boxplot(x = 'age', data = bank_data, orient = 'v')\n",
    "ax1.set_xlabel('People Age', fontsize=15)\n",
    "ax1.set_ylabel('Age', fontsize=15)\n",
    "ax1.set_title('Age Distribution', fontsize=15)\n",
    "ax1.tick_params(labelsize=15)"
   ]
  },
  {
   "cell_type": "markdown",
   "metadata": {},
   "source": [
    "From the pictures above,we find the distribution of age is very sparse,and there may be many outliers.Therefore we will discretize it to minimize the negtive effect that the data might bring to our model."
   ]
  },
  {
   "cell_type": "markdown",
   "metadata": {},
   "source": [
    "Then we will examine the distribution of 'Duration'."
   ]
  },
  {
   "cell_type": "code",
   "execution_count": 18,
   "metadata": {},
   "outputs": [
    {
     "data": {
      "image/png": "[encoded data removed]",
      "text/plain": [
       "<Figure size 936x360 with 2 Axes>"
      ]
     },
     "metadata": {},
     "output_type": "display_data"
    }
   ],
   "source": [
    "#Duration\n",
    "fig, (ax1, ax2) = plt.subplots(nrows = 1, ncols = 2, figsize = (13, 5))\n",
    "sns.boxplot(x = 'duration', data = bank_data, orient = 'v', ax = ax1)\n",
    "ax1.set_xlabel('Calls', fontsize=10)\n",
    "ax1.set_ylabel('Duration', fontsize=10)\n",
    "ax1.set_title('Calls Distribution', fontsize=10)\n",
    "ax1.tick_params(labelsize=10)\n",
    "\n",
    "sns.distplot(bank_data['duration'], ax = ax2)\n",
    "sns.despine(ax = ax2)\n",
    "ax2.set_xlabel('Duration Calls', fontsize=10)\n",
    "ax2.set_ylabel('Occurence', fontsize=10)\n",
    "ax2.set_title('Duration x Ocucurence', fontsize=10)\n",
    "ax2.tick_params(labelsize=10)\n",
    "\n",
    "plt.subplots_adjust(wspace=0.5)\n",
    "plt.tight_layout() "
   ]
  },
  {
   "cell_type": "markdown",
   "metadata": {},
   "source": [
    "From the graphe above, we could find out that the data of 'Duration' has great fluctuation. So we will nondimensinalize the data using the standardtization method. For our convenience of running the model, we would do the same to 'campaign', 'previous', 'emp.var.rate', 'cons.price.idx', 'cons.conf.idx', 'euibor3m' and 'nr.employed'."
   ]
  },
  {
   "cell_type": "markdown",
   "metadata": {},
   "source": [
    "To summarize,as for 'age', we discretize it to minimize the negtive effect of the anomalies. When it comes to 'duration', 'campaign', 'previous', 'emp.var.rate', 'cons.price.idx', 'cons.conf.idx', 'euibor3m' and 'nr.employed', we standardtize them to do the nondimensionalization."
   ]
  },
  {
   "cell_type": "code",
   "execution_count": 19,
   "metadata": {},
   "outputs": [],
   "source": [
    "def trans_numeric(data, numeric_features):\n",
    "    bining_num = 10\n",
    "    bining_feature = 'age'\n",
    "    data[bining_feature] = pd.qcut(data[bining_feature], bining_num)\n",
    "    data[bining_feature] = pd.factorize(data[bining_feature])[0]+1   \n",
    "    for i in numeric_features: \n",
    "        mms = preprocessing.MinMaxScaler()\n",
    "        data[i] = mms.fit_transform(np.array(data[i]).reshape(-1,1))\n",
    "    return data\n",
    "trans_numeric(data,['duration','campaign','previous','emp.var.rate','cons.price.idx','cons.conf.idx','euribor3m','nr.employed']);"
   ]
  },
  {
   "cell_type": "markdown",
   "metadata": {},
   "source": [
    "Now that we have finished the encoding, we will fill the missing value with the adoption of **Random Forest**"
   ]
  },
  {
   "cell_type": "code",
   "execution_count": 20,
   "metadata": {},
   "outputs": [],
   "source": [
    "def fill_null(data):\n",
    "    fill_attrs = ['education','default','housing','loan']\n",
    "    for i in fill_attrs:     \n",
    "        test_data = data.loc[data[i].isnull()]\n",
    "        testX = test_data.drop(fill_attrs, axis=1)\n",
    "        train_data = data.loc[~data[i].isnull()]        \n",
    "        trainY = train_data.loc[:,i]\n",
    "        trainX = train_data.drop(fill_attrs, axis=1)    \n",
    "        test_data[i] = train_predict_null(trainX, trainY.astype('int'), testX)\n",
    "        data = pd.concat([train_data, test_data])    \n",
    "    return data\n",
    "\n",
    "def train_predict_null(trainX, trainY, testX):\n",
    "    forest = RandomForestClassifier(n_estimators=100)\n",
    "    forest = forest.fit(trainX, trainY)\n",
    "    test_predictY = forest.predict(testX).astype(int)\n",
    "    return pd.DataFrame(test_predictY,index=testX.index)"
   ]
  },
  {
   "cell_type": "code",
   "execution_count": 21,
   "metadata": {},
   "outputs": [],
   "source": [
    "final_data = fill_null(data)"
   ]
  },
  {
   "cell_type": "markdown",
   "metadata": {},
   "source": [
    "### Correlation\n",
    "Now that we have dealt with the data,we will continue with the EDA. The Pearson Corrlation Coefficient can help us understand the relationship between the varible and the column y,which we define as the Target Column. Therefore, we will calculate the Pearson Corrlation Coefficient in the step below."
   ]
  },
  {
   "cell_type": "code",
   "execution_count": 22,
   "metadata": {},
   "outputs": [],
   "source": [
    "correlations = final_data.corr()['y'].sort_values()"
   ]
  },
  {
   "cell_type": "code",
   "execution_count": 23,
   "metadata": {
    "scrolled": true
   },
   "outputs": [
    {
     "name": "stdout",
     "output_type": "stream",
     "text": [
      "Most Positive Correlations:\n",
      " marital_single      0.053505\n",
      "cons.conf.idx       0.054208\n",
      "month_apr           0.076516\n",
      "month_dec           0.079238\n",
      "job_retired         0.092674\n",
      "job_student         0.094556\n",
      "month_sep           0.126201\n",
      "month_oct           0.137481\n",
      "month_mar           0.144433\n",
      "contact             0.144654\n",
      "previous            0.229090\n",
      "poutcome_success    0.317898\n",
      "pdays               0.324363\n",
      "duration            0.405312\n",
      "y                   1.000000\n",
      "Name: y, dtype: float64\n",
      "Most Negative Correlations:\n",
      " nr.employed            -0.354615\n",
      "euribor3m              -0.307590\n",
      "emp.var.rate           -0.298024\n",
      "poutcome_nonexistent   -0.192562\n",
      "cons.price.idx         -0.135854\n",
      "month_may              -0.107210\n",
      "job_blue-collar        -0.075170\n",
      "campaign               -0.066419\n",
      "age                    -0.043458\n",
      "marital_married        -0.042109\n",
      "month_jul              -0.032636\n",
      "job_services           -0.032303\n",
      "day_of_week_mon        -0.020574\n",
      "job_entrepreneur       -0.017011\n",
      "month_nov              -0.012225\n",
      "Name: y, dtype: float64\n"
     ]
    }
   ],
   "source": [
    "print('Most Positive Correlations:\\n', correlations.tail(15))\n",
    "print('Most Negative Correlations:\\n', correlations.head(15))"
   ]
  },
  {
   "cell_type": "markdown",
   "metadata": {},
   "source": [
    "From the correlation analysis,we discover that in those positive and negative correlations, the rank of month_sep,month_oct, month_mar, month_nov and month_july is very high. However, the sigular month itself doesn't have much difference among other month. Therefore,we believe we can construct a new feature-'Quarter' in the Feature Engineering."
   ]
  },
  {
   "cell_type": "markdown",
   "metadata": {},
   "source": [
    "## Feature Engineering"
   ]
  },
  {
   "cell_type": "markdown",
   "metadata": {},
   "source": [
    "### Feature Establishment"
   ]
  },
  {
   "cell_type": "markdown",
   "metadata": {},
   "source": [
    "We will do the Feature Establishment accroding to the method above."
   ]
  },
  {
   "cell_type": "code",
   "execution_count": 24,
   "metadata": {},
   "outputs": [],
   "source": [
    "# Feature establish\n",
    "final_data['spring'] = final_data['month_mar']\n",
    "final_data['summer'] = final_data['month_apr']+final_data['month_may']+final_data['month_jun']\n",
    "final_data['autumn'] = final_data['month_jul']+final_data['month_aug']+final_data['month_sep']\n",
    "final_data['winter'] = final_data['month_oct']+final_data['month_nov']+final_data['month_dec']\n"
   ]
  },
  {
   "cell_type": "markdown",
   "metadata": {},
   "source": [
    "Now we have the final version of our dataset is listed as followed."
   ]
  },
  {
   "cell_type": "code",
   "execution_count": 25,
   "metadata": {},
   "outputs": [
    {
     "data": {
      "text/html": [
       "<div>\n",
       "<style scoped>\n",
       "    .dataframe tbody tr th:only-of-type {\n",
       "        vertical-align: middle;\n",
       "    }\n",
       "\n",
       "    .dataframe tbody tr th {\n",
       "        vertical-align: top;\n",
       "    }\n",
       "\n",
       "    .dataframe thead th {\n",
       "        text-align: right;\n",
       "    }\n",
       "</style>\n",
       "<table border=\"1\" class=\"dataframe\">\n",
       "  <thead>\n",
       "    <tr style=\"text-align: right;\">\n",
       "      <th></th>\n",
       "      <th>age</th>\n",
       "      <th>education</th>\n",
       "      <th>default</th>\n",
       "      <th>housing</th>\n",
       "      <th>loan</th>\n",
       "      <th>contact</th>\n",
       "      <th>duration</th>\n",
       "      <th>campaign</th>\n",
       "      <th>pdays</th>\n",
       "      <th>previous</th>\n",
       "      <th>...</th>\n",
       "      <th>day_of_week_thu</th>\n",
       "      <th>day_of_week_tue</th>\n",
       "      <th>day_of_week_wed</th>\n",
       "      <th>poutcome_failure</th>\n",
       "      <th>poutcome_nonexistent</th>\n",
       "      <th>poutcome_success</th>\n",
       "      <th>spring</th>\n",
       "      <th>summer</th>\n",
       "      <th>autumn</th>\n",
       "      <th>winter</th>\n",
       "    </tr>\n",
       "  </thead>\n",
       "  <tbody>\n",
       "    <tr>\n",
       "      <th>0</th>\n",
       "      <td>1</td>\n",
       "      <td>2</td>\n",
       "      <td>0</td>\n",
       "      <td>0</td>\n",
       "      <td>0</td>\n",
       "      <td>0</td>\n",
       "      <td>0.053070</td>\n",
       "      <td>0.0</td>\n",
       "      <td>0.0</td>\n",
       "      <td>0.0</td>\n",
       "      <td>...</td>\n",
       "      <td>0</td>\n",
       "      <td>0</td>\n",
       "      <td>0</td>\n",
       "      <td>0</td>\n",
       "      <td>1</td>\n",
       "      <td>0</td>\n",
       "      <td>0</td>\n",
       "      <td>1</td>\n",
       "      <td>0</td>\n",
       "      <td>0</td>\n",
       "    </tr>\n",
       "    <tr>\n",
       "      <th>2</th>\n",
       "      <td>2</td>\n",
       "      <td>5</td>\n",
       "      <td>0</td>\n",
       "      <td>1</td>\n",
       "      <td>0</td>\n",
       "      <td>0</td>\n",
       "      <td>0.045954</td>\n",
       "      <td>0.0</td>\n",
       "      <td>0.0</td>\n",
       "      <td>0.0</td>\n",
       "      <td>...</td>\n",
       "      <td>0</td>\n",
       "      <td>0</td>\n",
       "      <td>0</td>\n",
       "      <td>0</td>\n",
       "      <td>1</td>\n",
       "      <td>0</td>\n",
       "      <td>0</td>\n",
       "      <td>1</td>\n",
       "      <td>0</td>\n",
       "      <td>0</td>\n",
       "    </tr>\n",
       "    <tr>\n",
       "      <th>3</th>\n",
       "      <td>3</td>\n",
       "      <td>3</td>\n",
       "      <td>0</td>\n",
       "      <td>0</td>\n",
       "      <td>0</td>\n",
       "      <td>0</td>\n",
       "      <td>0.030704</td>\n",
       "      <td>0.0</td>\n",
       "      <td>0.0</td>\n",
       "      <td>0.0</td>\n",
       "      <td>...</td>\n",
       "      <td>0</td>\n",
       "      <td>0</td>\n",
       "      <td>0</td>\n",
       "      <td>0</td>\n",
       "      <td>1</td>\n",
       "      <td>0</td>\n",
       "      <td>0</td>\n",
       "      <td>1</td>\n",
       "      <td>0</td>\n",
       "      <td>0</td>\n",
       "    </tr>\n",
       "    <tr>\n",
       "      <th>4</th>\n",
       "      <td>1</td>\n",
       "      <td>5</td>\n",
       "      <td>0</td>\n",
       "      <td>0</td>\n",
       "      <td>1</td>\n",
       "      <td>0</td>\n",
       "      <td>0.062424</td>\n",
       "      <td>0.0</td>\n",
       "      <td>0.0</td>\n",
       "      <td>0.0</td>\n",
       "      <td>...</td>\n",
       "      <td>0</td>\n",
       "      <td>0</td>\n",
       "      <td>0</td>\n",
       "      <td>0</td>\n",
       "      <td>1</td>\n",
       "      <td>0</td>\n",
       "      <td>0</td>\n",
       "      <td>1</td>\n",
       "      <td>0</td>\n",
       "      <td>0</td>\n",
       "    </tr>\n",
       "    <tr>\n",
       "      <th>6</th>\n",
       "      <td>1</td>\n",
       "      <td>6</td>\n",
       "      <td>0</td>\n",
       "      <td>0</td>\n",
       "      <td>0</td>\n",
       "      <td>0</td>\n",
       "      <td>0.028264</td>\n",
       "      <td>0.0</td>\n",
       "      <td>0.0</td>\n",
       "      <td>0.0</td>\n",
       "      <td>...</td>\n",
       "      <td>0</td>\n",
       "      <td>0</td>\n",
       "      <td>0</td>\n",
       "      <td>0</td>\n",
       "      <td>1</td>\n",
       "      <td>0</td>\n",
       "      <td>0</td>\n",
       "      <td>1</td>\n",
       "      <td>0</td>\n",
       "      <td>0</td>\n",
       "    </tr>\n",
       "    <tr>\n",
       "      <th>8</th>\n",
       "      <td>5</td>\n",
       "      <td>6</td>\n",
       "      <td>0</td>\n",
       "      <td>1</td>\n",
       "      <td>0</td>\n",
       "      <td>0</td>\n",
       "      <td>0.077267</td>\n",
       "      <td>0.0</td>\n",
       "      <td>0.0</td>\n",
       "      <td>0.0</td>\n",
       "      <td>...</td>\n",
       "      <td>0</td>\n",
       "      <td>0</td>\n",
       "      <td>0</td>\n",
       "      <td>0</td>\n",
       "      <td>1</td>\n",
       "      <td>0</td>\n",
       "      <td>0</td>\n",
       "      <td>1</td>\n",
       "      <td>0</td>\n",
       "      <td>0</td>\n",
       "    </tr>\n",
       "    <tr>\n",
       "      <th>9</th>\n",
       "      <td>5</td>\n",
       "      <td>5</td>\n",
       "      <td>0</td>\n",
       "      <td>1</td>\n",
       "      <td>0</td>\n",
       "      <td>0</td>\n",
       "      <td>0.010167</td>\n",
       "      <td>0.0</td>\n",
       "      <td>0.0</td>\n",
       "      <td>0.0</td>\n",
       "      <td>...</td>\n",
       "      <td>0</td>\n",
       "      <td>0</td>\n",
       "      <td>0</td>\n",
       "      <td>0</td>\n",
       "      <td>1</td>\n",
       "      <td>0</td>\n",
       "      <td>0</td>\n",
       "      <td>1</td>\n",
       "      <td>0</td>\n",
       "      <td>0</td>\n",
       "    </tr>\n",
       "    <tr>\n",
       "      <th>11</th>\n",
       "      <td>5</td>\n",
       "      <td>5</td>\n",
       "      <td>0</td>\n",
       "      <td>1</td>\n",
       "      <td>0</td>\n",
       "      <td>0</td>\n",
       "      <td>0.045140</td>\n",
       "      <td>0.0</td>\n",
       "      <td>0.0</td>\n",
       "      <td>0.0</td>\n",
       "      <td>...</td>\n",
       "      <td>0</td>\n",
       "      <td>0</td>\n",
       "      <td>0</td>\n",
       "      <td>0</td>\n",
       "      <td>1</td>\n",
       "      <td>0</td>\n",
       "      <td>0</td>\n",
       "      <td>1</td>\n",
       "      <td>0</td>\n",
       "      <td>0</td>\n",
       "    </tr>\n",
       "    <tr>\n",
       "      <th>12</th>\n",
       "      <td>6</td>\n",
       "      <td>5</td>\n",
       "      <td>0</td>\n",
       "      <td>0</td>\n",
       "      <td>1</td>\n",
       "      <td>0</td>\n",
       "      <td>0.027857</td>\n",
       "      <td>0.0</td>\n",
       "      <td>0.0</td>\n",
       "      <td>0.0</td>\n",
       "      <td>...</td>\n",
       "      <td>0</td>\n",
       "      <td>0</td>\n",
       "      <td>0</td>\n",
       "      <td>0</td>\n",
       "      <td>1</td>\n",
       "      <td>0</td>\n",
       "      <td>0</td>\n",
       "      <td>1</td>\n",
       "      <td>0</td>\n",
       "      <td>0</td>\n",
       "    </tr>\n",
       "    <tr>\n",
       "      <th>13</th>\n",
       "      <td>1</td>\n",
       "      <td>2</td>\n",
       "      <td>0</td>\n",
       "      <td>1</td>\n",
       "      <td>0</td>\n",
       "      <td>0</td>\n",
       "      <td>0.059577</td>\n",
       "      <td>0.0</td>\n",
       "      <td>0.0</td>\n",
       "      <td>0.0</td>\n",
       "      <td>...</td>\n",
       "      <td>0</td>\n",
       "      <td>0</td>\n",
       "      <td>0</td>\n",
       "      <td>0</td>\n",
       "      <td>1</td>\n",
       "      <td>0</td>\n",
       "      <td>0</td>\n",
       "      <td>1</td>\n",
       "      <td>0</td>\n",
       "      <td>0</td>\n",
       "    </tr>\n",
       "  </tbody>\n",
       "</table>\n",
       "<p>10 rows × 52 columns</p>\n",
       "</div>"
      ],
      "text/plain": [
       "    age education default housing loan  contact  duration  campaign  pdays  \\\n",
       "0     1         2       0       0    0        0  0.053070       0.0    0.0   \n",
       "2     2         5       0       1    0        0  0.045954       0.0    0.0   \n",
       "3     3         3       0       0    0        0  0.030704       0.0    0.0   \n",
       "4     1         5       0       0    1        0  0.062424       0.0    0.0   \n",
       "6     1         6       0       0    0        0  0.028264       0.0    0.0   \n",
       "8     5         6       0       1    0        0  0.077267       0.0    0.0   \n",
       "9     5         5       0       1    0        0  0.010167       0.0    0.0   \n",
       "11    5         5       0       1    0        0  0.045140       0.0    0.0   \n",
       "12    6         5       0       0    1        0  0.027857       0.0    0.0   \n",
       "13    1         2       0       1    0        0  0.059577       0.0    0.0   \n",
       "\n",
       "    previous   ...    day_of_week_thu  day_of_week_tue  day_of_week_wed  \\\n",
       "0        0.0   ...                  0                0                0   \n",
       "2        0.0   ...                  0                0                0   \n",
       "3        0.0   ...                  0                0                0   \n",
       "4        0.0   ...                  0                0                0   \n",
       "6        0.0   ...                  0                0                0   \n",
       "8        0.0   ...                  0                0                0   \n",
       "9        0.0   ...                  0                0                0   \n",
       "11       0.0   ...                  0                0                0   \n",
       "12       0.0   ...                  0                0                0   \n",
       "13       0.0   ...                  0                0                0   \n",
       "\n",
       "    poutcome_failure  poutcome_nonexistent  poutcome_success  spring  summer  \\\n",
       "0                  0                     1                 0       0       1   \n",
       "2                  0                     1                 0       0       1   \n",
       "3                  0                     1                 0       0       1   \n",
       "4                  0                     1                 0       0       1   \n",
       "6                  0                     1                 0       0       1   \n",
       "8                  0                     1                 0       0       1   \n",
       "9                  0                     1                 0       0       1   \n",
       "11                 0                     1                 0       0       1   \n",
       "12                 0                     1                 0       0       1   \n",
       "13                 0                     1                 0       0       1   \n",
       "\n",
       "    autumn  winter  \n",
       "0        0       0  \n",
       "2        0       0  \n",
       "3        0       0  \n",
       "4        0       0  \n",
       "6        0       0  \n",
       "8        0       0  \n",
       "9        0       0  \n",
       "11       0       0  \n",
       "12       0       0  \n",
       "13       0       0  \n",
       "\n",
       "[10 rows x 52 columns]"
      ]
     },
     "execution_count": 25,
     "metadata": {},
     "output_type": "execute_result"
    }
   ],
   "source": [
    "final_data.head(10)"
   ]
  },
  {
   "cell_type": "code",
   "execution_count": 26,
   "metadata": {},
   "outputs": [
    {
     "data": {
      "text/plain": [
       "0    40246\n",
       "1      541\n",
       "Name: spring, dtype: int64"
      ]
     },
     "execution_count": 26,
     "metadata": {},
     "output_type": "execute_result"
    }
   ],
   "source": [
    "final_data.spring.value_counts()"
   ]
  },
  {
   "cell_type": "markdown",
   "metadata": {},
   "source": [
    "### Feature Selection\n",
    "In this section, we adopt the Rondom Forest to conduct the feature selection."
   ]
  },
  {
   "cell_type": "markdown",
   "metadata": {},
   "source": [
    "Before we run the Random Forest, we will sepreate the test set and training set from the original dataset."
   ]
  },
  {
   "cell_type": "code",
   "execution_count": 27,
   "metadata": {},
   "outputs": [],
   "source": [
    "from sklearn.model_selection import train_test_split\n",
    "X_train, X_test, y_train, y_test = train_test_split(final_data.drop('y',axis=1), final_data['y'], test_size = 0.1942313295, random_state = 101)"
   ]
  },
  {
   "cell_type": "code",
   "execution_count": 28,
   "metadata": {},
   "outputs": [
    {
     "data": {
      "text/plain": [
       "array([ 6, 13,  0, 14,  7], dtype=int64)"
      ]
     },
     "execution_count": 28,
     "metadata": {},
     "output_type": "execute_result"
    }
   ],
   "source": [
    "from sklearn.ensemble import RandomForestClassifier\n",
    "feat_lables = X_train.columns\n",
    "forest = RandomForestClassifier(n_estimators=1000, random_state=0,n_jobs=1,criterion = 'entropy')\n",
    "forest.fit(X_train,y_train)\n",
    "importance = forest.feature_importances_\n",
    "imp_result = np.argsort(importance)[::-1]\n",
    "imp_result[0:5]"
   ]
  },
  {
   "cell_type": "code",
   "execution_count": 29,
   "metadata": {},
   "outputs": [
    {
     "name": "stdout",
     "output_type": "stream",
     "text": [
      " 1. age                            0.328049\n",
      " 2. education                      0.099511\n",
      " 3. default                        0.055042\n",
      " 4. housing                        0.054888\n",
      " 5. loan                           0.043297\n",
      " 6. contact                        0.038428\n",
      " 7. duration                       0.033511\n",
      " 8. campaign                       0.026450\n",
      " 9. pdays                          0.021729\n",
      "10. previous                       0.019609\n",
      "11. emp.var.rate                   0.019265\n",
      "12. cons.price.idx                 0.016062\n",
      "13. cons.conf.idx                  0.012688\n",
      "14. euribor3m                      0.012558\n",
      "15. nr.employed                    0.011979\n",
      "16. job_admin.                     0.011774\n",
      "17. job_blue-collar                0.011569\n",
      "18. job_entrepreneur               0.011282\n",
      "19. job_housemaid                  0.010959\n",
      "20. job_management                 0.010854\n",
      "21. job_retired                    0.010593\n",
      "22. job_self-employed              0.010390\n",
      "23. job_services                   0.010286\n",
      "24. job_student                    0.010092\n",
      "25. job_technician                 0.009112\n",
      "26. job_unemployed                 0.007704\n",
      "27. marital_divorced               0.007490\n",
      "28. marital_married                0.006978\n",
      "29. marital_single                 0.006630\n",
      "30. month_apr                      0.006428\n",
      "31. month_aug                      0.006317\n",
      "32. month_dec                      0.005954\n",
      "33. month_jul                      0.005047\n",
      "34. month_jun                      0.004839\n",
      "35. month_mar                      0.004259\n",
      "36. month_may                      0.004022\n",
      "37. month_nov                      0.003818\n",
      "38. month_oct                      0.003741\n",
      "39. month_sep                      0.003212\n",
      "40. day_of_week_fri                0.002979\n",
      "41. day_of_week_mon                0.002726\n",
      "42. day_of_week_thu                0.002723\n",
      "43. day_of_week_tue                0.002484\n",
      "44. day_of_week_wed                0.002293\n",
      "45. poutcome_failure               0.002137\n",
      "46. poutcome_nonexistent           0.002093\n",
      "47. poutcome_success               0.001989\n",
      "48. spring                         0.001973\n",
      "49. summer                         0.001614\n",
      "50. autumn                         0.000573\n",
      "51. winter                         0.000000\n"
     ]
    }
   ],
   "source": [
    "for i in range(X_train.shape[1]):\n",
    "    print(\"%2d. %-*s %f\"%(i+1, 30, feat_lables[i], importance[imp_result[i]]) )"
   ]
  },
  {
   "cell_type": "markdown",
   "metadata": {},
   "source": [
    "According to the result above, we would like to select the top 15 features and drop the rest of them."
   ]
  },
  {
   "cell_type": "code",
   "execution_count": 30,
   "metadata": {},
   "outputs": [],
   "source": [
    "final_data.drop(['job_admin.','job_blue-collar','job_entrepreneur','job_housemaid','job_management','job_retired','job_student',\n",
    "                 'job_technician','job_unemployed','job_self-employed','job_services','marital_divorced','marital_married',\n",
    "                 'marital_single','day_of_week_fri','day_of_week_mon','day_of_week_thu','day_of_week_tue','day_of_week_wed',\n",
    "                 'poutcome_failure','poutcome_nonexistent','poutcome_success','spring','summer','autumn','winter'],axis = 1,inplace=True)\n",
    "X_train, X_test, y_train, y_test = train_test_split(final_data.drop('y',axis=1), final_data['y'], test_size = 0.1942313295, random_state = 101)"
   ]
  },
  {
   "cell_type": "markdown",
   "metadata": {},
   "source": [
    "### Performance Metrics\n",
    "In this section, we will use **F1 Scoring** and **P/R Metric** to evaluate the performance of our Random Forest.F1 Scoring is a indicator to evaluate the stability binary model. As for the P/R Metric, it discover the balance between the Precision and Recall, which is a group of contradictory indicator. Since we adopt the Random Forest, those metrics will be good performance evaluation metrics."
   ]
  },
  {
   "cell_type": "markdown",
   "metadata": {},
   "source": [
    "First, we will do the F1 Scoring as followed. "
   ]
  },
  {
   "cell_type": "code",
   "execution_count": 31,
   "metadata": {},
   "outputs": [
    {
     "name": "stdout",
     "output_type": "stream",
     "text": [
      "\n",
      "confusion matrix：\n",
      "[[6873  193]\n",
      " [ 501  356]]\n",
      "\n",
      "F1 Score：\n",
      "0.5064011379800853\n",
      "\n",
      "Accuracy:\n",
      "score:0.91\n"
     ]
    }
   ],
   "source": [
    "from sklearn.metrics import f1_score as f1\n",
    "from sklearn.metrics import confusion_matrix as con\n",
    "\n",
    "clf = RandomForestClassifier(class_weight='balanced',random_state=2018)\n",
    "result = clf.fit(X_train,y_train).predict(X_test)\n",
    "\n",
    "print('\\n'+'confusion matrix：')\n",
    "print(con(y_test,result))\n",
    "\n",
    "print('\\n'+'F1 Score：')\n",
    "print(f1(y_test,result))\n",
    "print('\\n'+'Accuracy:')\n",
    "print(\"score:{:.2f}\".format(clf.score(X_test,y_test)))"
   ]
  },
  {
   "cell_type": "markdown",
   "metadata": {},
   "source": [
    "From the result above, we can see that the **F1 Score** is 0.51 and the **Accuracy** is 91%, which indicates that our model is robust."
   ]
  },
  {
   "cell_type": "markdown",
   "metadata": {},
   "source": [
    "Then we will do the P/R Metric."
   ]
  },
  {
   "cell_type": "code",
   "execution_count": 32,
   "metadata": {},
   "outputs": [],
   "source": [
    "def plot_pr(auc_score, precision, recall, label=None):  \n",
    "    pylab.figure(num=None, figsize=(6, 5))  \n",
    "    pylab.xlim([0.0, 1.0])  \n",
    "    pylab.ylim([0.0, 1.0])\n",
    "    pylab.xlabel('Recall')  \n",
    "    pylab.ylabel('Precision')  \n",
    "    pylab.title('P/R (AUC=%0.2f) / %s' % (auc_score, label))  \n",
    "    pylab.fill_between(recall, precision, alpha=0.2)  \n",
    "    pylab.grid(True, linestyle='-', color='0.75')  \n",
    "    pylab.plot(recall, precision, lw=1)      \n",
    "    pylab.show()\n",
    "    \n",
    "\n",
    "\n",
    "def plot_roc(auc_score, fpr, tpr, label=None):  \n",
    "    pylab.figure(num=None, figsize=(6, 5))  \n",
    "    pylab.xlim([0.0, 1.0])  \n",
    "    pylab.ylim([0.0, 1.0])\n",
    "    pylab.xlabel('False positive rate')  \n",
    "    pylab.ylabel('True positive rate')  \n",
    "    pylab.title('ROC (AUC=%0.2f) / %s' % (auc_score, label))  \n",
    "    pylab.fill_between(fpr, tpr, alpha=0.2)  \n",
    "    pylab.grid(True, linestyle='-', color='0.75')  \n",
    "    pylab.plot(fpr, tpr, lw=1)      \n",
    "    pylab.show()\n"
   ]
  },
  {
   "cell_type": "code",
   "execution_count": 33,
   "metadata": {},
   "outputs": [
    {
     "name": "stdout",
     "output_type": "stream",
     "text": [
      "Accuracy: 0.9124069165720056\n",
      "             precision    recall  f1-score   support\n",
      "\n",
      "         no       0.93      0.97      0.95      7066\n",
      "        yes       0.65      0.42      0.51       857\n",
      "\n",
      "avg / total       0.90      0.91      0.90      7923\n",
      "\n"
     ]
    },
    {
     "data": {
      "image/png": "[encoded data removed]",
      "text/plain": [
       "<Figure size 432x360 with 1 Axes>"
      ]
     },
     "metadata": {},
     "output_type": "display_data"
    }
   ],
   "source": [
    "from sklearn.metrics import classification_report\n",
    "from sklearn import metrics\n",
    "from matplotlib import pylab\n",
    "\n",
    "prodict_prob_y = clf.predict_proba(X_test)[:,1]\n",
    "report = classification_report(y_test, prodict_prob_y > 0.5,target_names = ['no','yes'])\n",
    "prodict_y = (prodict_prob_y > 0.5).astype(int)\n",
    "accuracy = np.mean(y_test.values == prodict_y)\n",
    "print(\"Accuracy: {}\".format(accuracy))    \n",
    "print(report)\n",
    "fpr, tpr, thresholds = metrics.roc_curve(y_test, prodict_prob_y)\n",
    "precision, recall, thresholds = metrics.precision_recall_curve(y_test, prodict_prob_y)  \n",
    "test_auc = metrics.auc(fpr, tpr)\n",
    "plot_pr(test_auc, precision, recall, \"yes\")\n",
    "    "
   ]
  },
  {
   "cell_type": "markdown",
   "metadata": {},
   "source": [
    "The P/R Metric indicates the **Accuracy** is 91%. What is more, the P/R graphe shows that the AUC is 0.91."
   ]
  },
  {
   "cell_type": "markdown",
   "metadata": {},
   "source": [
    "From the evaluation above, we can draw a conclusion that our model is robust. And the following suggestion generating from the model shall be solid."
   ]
  },
  {
   "cell_type": "markdown",
   "metadata": {},
   "source": [
    "## Business Suggestion"
   ]
  },
  {
   "cell_type": "markdown",
   "metadata": {},
   "source": [
    "### Client Selection\n",
    "\n",
    "It's a social phenomenon that the elderly people usually work for a long period of time, accumulating plenty wealth. This kind has a lower demand for consumption but a higher demand for risk aversion, comparing to the youth. The bank should identify them as potential depositor.\n",
    "\n",
    "Education reflects people's knowledge level and work ability, therefore, it is more likely for people highly educated to deposit surplus income.\n",
    "It is recommended that banks pay more attention to this kind of people \n",
    "\n",
    "The record of defaults indicate clients' high credit risk. They have no willingness to deposit. It is recommended that banks exclude customers who are untrustworthy.\n",
    "\n",
    "Customers with debts and repayments are under a lot of pressure, cash flow is tight, and there is almost no willingness to deposit. It is recommended that banks exclude customers who are untrustworthy and will not consider them."
   ]
  },
  {
   "cell_type": "markdown",
   "metadata": {},
   "source": [
    "### Marketing Strategy\n",
    "\n",
    "We find that the performance of banks is closely related to the situation of potential customers when contacting. We suggest that banks should increase the frequency and length of communication with customers to excavate potential customers, and enhance customer stickiness, so that customers have a strong willingness to deposit."
   ]
  },
  {
   "cell_type": "markdown",
   "metadata": {},
   "source": [
    "### Risk Managment\n",
    "\n",
    "Customer's deposit intention is inevitably affected by macroeconomic factors. We suggest that banks take into account the actual economic environment and the expectations of customer groups on the economic environment, and combine static and dynamic indicators to predict the impact of economic environment on customer's deposit intention, so as to make a reasonable response. At present, deposit and loan business is still the core source of bank profits. Effective judgment of economic environment can reasonably control the risks faced by banks.\n"
   ]
  }
 ],
 "metadata": {
  "kernelspec": {
   "display_name": "Python 3",
   "language": "python",
   "name": "python3"
  },
  "language_info": {
   "codemirror_mode": {
    "name": "ipython",
    "version": 3
   },
   "file_extension": ".py",
   "mimetype": "text/x-python",
   "name": "python",
   "nbconvert_exporter": "python",
   "pygments_lexer": "ipython3",
   "version": "3.7.0"
  }
 },
 "nbformat": 4,
 "nbformat_minor": 2
}
